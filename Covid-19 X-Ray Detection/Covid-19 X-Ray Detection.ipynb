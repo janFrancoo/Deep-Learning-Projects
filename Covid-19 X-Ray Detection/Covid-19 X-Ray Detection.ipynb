{
 "cells": [
  {
   "cell_type": "code",
   "execution_count": 1,
   "metadata": {},
   "outputs": [
    {
     "name": "stdout",
     "output_type": "stream",
     "text": [
      "Num GPUs Available:  1\n"
     ]
    }
   ],
   "source": [
    "import tensorflow as tf\n",
    "\n",
    "print(\"Num GPUs Available: \", len(tf.config.experimental.list_physical_devices('GPU')))"
   ]
  },
  {
   "cell_type": "code",
   "execution_count": 2,
   "metadata": {},
   "outputs": [],
   "source": [
    "import os\n",
    "import cv2\n",
    "import numpy as np\n",
    "\n",
    "path = \"../Data/covid-19/\"\n",
    "data = []\n",
    "labels = []\n",
    "\n",
    "for img_class in os.listdir(path):\n",
    "    class_path = path + img_class + \"/\"\n",
    "    for img in os.listdir(class_path):\n",
    "        img = cv2.imread(class_path + img)\n",
    "        img = cv2.resize(img, (224, 224))\n",
    "        img = cv2.cvtColor(img, cv2.COLOR_BGR2RGB)\n",
    "        data.append(img)\n",
    "        labels.append(img_class)"
   ]
  },
  {
   "cell_type": "code",
   "execution_count": 3,
   "metadata": {},
   "outputs": [],
   "source": [
    "data = np.array(data) / 255.0\n",
    "labels = np.array(labels)"
   ]
  },
  {
   "cell_type": "code",
   "execution_count": 4,
   "metadata": {},
   "outputs": [],
   "source": [
    "from sklearn.preprocessing import LabelBinarizer\n",
    "from tensorflow.keras.utils import to_categorical\n",
    "\n",
    "label_binarizer = LabelBinarizer()\n",
    "labels = label_binarizer.fit_transform(labels)\n",
    "labels = to_categorical(labels)"
   ]
  },
  {
   "cell_type": "code",
   "execution_count": 5,
   "metadata": {},
   "outputs": [],
   "source": [
    "from sklearn.model_selection import train_test_split\n",
    "\n",
    "x_train, x_test, y_train, y_test = train_test_split(data, labels, test_size=.2)"
   ]
  },
  {
   "cell_type": "code",
   "execution_count": 6,
   "metadata": {},
   "outputs": [],
   "source": [
    "from tensorflow.keras.preprocessing.image import ImageDataGenerator\n",
    "\n",
    "train_aug = ImageDataGenerator(rotation_range=15, fill_mode=\"nearest\")"
   ]
  },
  {
   "cell_type": "code",
   "execution_count": 11,
   "metadata": {},
   "outputs": [],
   "source": [
    "from tensorflow.keras.layers import Input\n",
    "from tensorflow.keras.applications import VGG16\n",
    "\n",
    "base_model = VGG16(weights=\"imagenet\", include_top=False, input_tensor=Input(shape=(224, 224, 3)))"
   ]
  },
  {
   "cell_type": "code",
   "execution_count": 13,
   "metadata": {},
   "outputs": [],
   "source": [
    "from tensorflow.keras.models import Model\n",
    "from tensorflow.keras.layers import Dense, Flatten, Dropout, AveragePooling2D\n",
    "\n",
    "head_model = base_model.output\n",
    "head_model = AveragePooling2D(pool_size=(4, 4))(head_model)\n",
    "head_model = Flatten(name=\"flatten\")(head_model)\n",
    "head_model = Dense(64, activation=\"relu\")(head_model)\n",
    "head_model = Dropout(0.5)(head_model)\n",
    "head_model = Dense(2, activation=\"softmax\")(head_model)\n",
    "\n",
    "model = Model(inputs=base_model.input, outputs=head_model)\n",
    "\n",
    "for layer in base_model.layers:\n",
    "    layer.trainable = False"
   ]
  },
  {
   "cell_type": "code",
   "execution_count": 15,
   "metadata": {},
   "outputs": [
    {
     "name": "stdout",
     "output_type": "stream",
     "text": [
      "WARNING:tensorflow:From <ipython-input-15-317369ec95b0>:7: Model.fit_generator (from tensorflow.python.keras.engine.training) is deprecated and will be removed in a future version.\n",
      "Instructions for updating:\n",
      "Please use Model.fit, which supports generators.\n",
      "WARNING:tensorflow:sample_weight modes were coerced from\n",
      "  ...\n",
      "    to  \n",
      "  ['...']\n",
      "Train for 5 steps, validate on 10 samples\n",
      "Epoch 1/25\n",
      "5/5 [==============================] - 12s 2s/step - loss: 0.7631 - accuracy: 0.5000 - val_loss: 0.4741 - val_accuracy: 0.7500\n",
      "Epoch 2/25\n",
      "5/5 [==============================] - 2s 395ms/step - loss: 0.7277 - accuracy: 0.6000 - val_loss: 0.4554 - val_accuracy: 0.7500\n",
      "Epoch 3/25\n",
      "5/5 [==============================] - 2s 389ms/step - loss: 0.6318 - accuracy: 0.7000 - val_loss: 0.4631 - val_accuracy: 0.8750\n",
      "Epoch 4/25\n",
      "5/5 [==============================] - 2s 391ms/step - loss: 0.7078 - accuracy: 0.6250 - val_loss: 0.4884 - val_accuracy: 0.8750\n",
      "Epoch 5/25\n",
      "5/5 [==============================] - 2s 402ms/step - loss: 0.7148 - accuracy: 0.5250 - val_loss: 0.4914 - val_accuracy: 0.6250\n",
      "Epoch 6/25\n",
      "5/5 [==============================] - 2s 393ms/step - loss: 0.6580 - accuracy: 0.5750 - val_loss: 0.4378 - val_accuracy: 0.8750\n",
      "Epoch 7/25\n",
      "5/5 [==============================] - 2s 389ms/step - loss: 0.6483 - accuracy: 0.6500 - val_loss: 0.4243 - val_accuracy: 0.8750\n",
      "Epoch 8/25\n",
      "5/5 [==============================] - 2s 395ms/step - loss: 0.6046 - accuracy: 0.6000 - val_loss: 0.4212 - val_accuracy: 0.8750\n",
      "Epoch 9/25\n",
      "5/5 [==============================] - 2s 398ms/step - loss: 0.4958 - accuracy: 0.7500 - val_loss: 0.4280 - val_accuracy: 0.8750\n",
      "Epoch 10/25\n",
      "5/5 [==============================] - 2s 400ms/step - loss: 0.5755 - accuracy: 0.7250 - val_loss: 0.4223 - val_accuracy: 0.8750\n",
      "Epoch 11/25\n",
      "5/5 [==============================] - 2s 390ms/step - loss: 0.4985 - accuracy: 0.8500 - val_loss: 0.4160 - val_accuracy: 0.8750\n",
      "Epoch 12/25\n",
      "5/5 [==============================] - 2s 416ms/step - loss: 0.5923 - accuracy: 0.5750 - val_loss: 0.4196 - val_accuracy: 0.8750\n",
      "Epoch 13/25\n",
      "5/5 [==============================] - 2s 403ms/step - loss: 0.4947 - accuracy: 0.8000 - val_loss: 0.3909 - val_accuracy: 1.0000\n",
      "Epoch 14/25\n",
      "5/5 [==============================] - 2s 402ms/step - loss: 0.5873 - accuracy: 0.6750 - val_loss: 0.3839 - val_accuracy: 1.0000\n",
      "Epoch 15/25\n",
      "5/5 [==============================] - 2s 390ms/step - loss: 0.5065 - accuracy: 0.7750 - val_loss: 0.3692 - val_accuracy: 1.0000\n",
      "Epoch 16/25\n",
      "5/5 [==============================] - 2s 388ms/step - loss: 0.4505 - accuracy: 0.7500 - val_loss: 0.3630 - val_accuracy: 1.0000\n",
      "Epoch 17/25\n",
      "5/5 [==============================] - 2s 415ms/step - loss: 0.4570 - accuracy: 0.7750 - val_loss: 0.3510 - val_accuracy: 1.0000\n",
      "Epoch 18/25\n",
      "5/5 [==============================] - 2s 394ms/step - loss: 0.4556 - accuracy: 0.7750 - val_loss: 0.3612 - val_accuracy: 1.0000\n",
      "Epoch 19/25\n",
      "5/5 [==============================] - 2s 411ms/step - loss: 0.4126 - accuracy: 0.9000 - val_loss: 0.3401 - val_accuracy: 1.0000\n",
      "Epoch 20/25\n",
      "5/5 [==============================] - 2s 390ms/step - loss: 0.4486 - accuracy: 0.8250 - val_loss: 0.3287 - val_accuracy: 1.0000\n",
      "Epoch 21/25\n",
      "5/5 [==============================] - 2s 398ms/step - loss: 0.4208 - accuracy: 0.8500 - val_loss: 0.3265 - val_accuracy: 1.0000\n",
      "Epoch 22/25\n",
      "5/5 [==============================] - 2s 402ms/step - loss: 0.3540 - accuracy: 0.9000 - val_loss: 0.3229 - val_accuracy: 1.0000\n",
      "Epoch 23/25\n",
      "5/5 [==============================] - 2s 394ms/step - loss: 0.3970 - accuracy: 0.8500 - val_loss: 0.3179 - val_accuracy: 1.0000\n",
      "Epoch 24/25\n",
      "5/5 [==============================] - 2s 392ms/step - loss: 0.3888 - accuracy: 0.9250 - val_loss: 0.3094 - val_accuracy: 1.0000\n",
      "Epoch 25/25\n",
      "5/5 [==============================] - 2s 402ms/step - loss: 0.3699 - accuracy: 0.8750 - val_loss: 0.2881 - val_accuracy: 1.0000\n"
     ]
    }
   ],
   "source": [
    "from tensorflow.keras.optimizers import Adam\n",
    "\n",
    "opt = Adam(lr=1e-3, decay=1e-3 / 25)\n",
    "model.compile(loss=\"binary_crossentropy\", optimizer=opt, metrics=[\"accuracy\"])\n",
    "\n",
    "history = model.fit_generator(train_aug.flow(x_train, y_train, batch_size=8), steps_per_epoch=len(x_train) // 8, \n",
    "                              validation_data=(x_test, y_test), validation_steps=len(x_test) // 8, epochs=25)\n",
    "\n",
    "model.save(path + \"weights.h5\", save_format=\"h5\")"
   ]
  },
  {
   "cell_type": "code",
   "execution_count": 16,
   "metadata": {},
   "outputs": [
    {
     "name": "stdout",
     "output_type": "stream",
     "text": [
      "              precision    recall  f1-score   support\n",
      "\n",
      "       covid       1.00      1.00      1.00         5\n",
      "      normal       1.00      1.00      1.00         5\n",
      "\n",
      "    accuracy                           1.00        10\n",
      "   macro avg       1.00      1.00      1.00        10\n",
      "weighted avg       1.00      1.00      1.00        10\n",
      "\n"
     ]
    }
   ],
   "source": [
    "from sklearn.metrics import classification_report\n",
    "\n",
    "preds = model.predict(x_test, batch_size=8)\n",
    "preds = np.argmax(preds, axis=1)\n",
    "\n",
    "print(classification_report(y_test.argmax(axis=1), preds, target_names=label_binarizer.classes_))"
   ]
  },
  {
   "cell_type": "code",
   "execution_count": 17,
   "metadata": {},
   "outputs": [
    {
     "name": "stdout",
     "output_type": "stream",
     "text": [
      "[[5 0]\n",
      " [0 5]]\n"
     ]
    }
   ],
   "source": [
    "from sklearn.metrics import confusion_matrix\n",
    "\n",
    "print(confusion_matrix(y_test.argmax(axis=1), preds))"
   ]
  },
  {
   "cell_type": "code",
   "execution_count": 19,
   "metadata": {},
   "outputs": [
    {
     "data": {
      "image/png": "[encoded data removed]",
      "text/plain": [
       "<Figure size 432x288 with 1 Axes>"
      ]
     },
     "metadata": {
      "needs_background": "light"
     },
     "output_type": "display_data"
    }
   ],
   "source": [
    "import matplotlib.pyplot as plt\n",
    "\n",
    "plt.figure()\n",
    "plt.plot(np.arange(0, 25), history.history[\"loss\"], label=\"train_loss\")\n",
    "plt.plot(np.arange(0, 25), history.history[\"val_loss\"], label=\"val_loss\")\n",
    "plt.plot(np.arange(0, 25), history.history[\"accuracy\"], label=\"train_acc\")\n",
    "plt.plot(np.arange(0, 25), history.history[\"val_accuracy\"], label=\"val_acc\")\n",
    "plt.title(\"Training Loss and Accuracy on COVID-19 Dataset\")\n",
    "plt.xlabel(\"Epoch #\")\n",
    "plt.ylabel(\"Loss/Accuracy\")\n",
    "plt.legend(loc=\"lower left\")\n",
    "plt.show()"
   ]
  }
 ],
 "metadata": {
  "kernelspec": {
   "display_name": "Python 3",
   "language": "python",
   "name": "python3"
  },
  "language_info": {
   "codemirror_mode": {
    "name": "ipython",
    "version": 3
   },
   "file_extension": ".py",
   "mimetype": "text/x-python",
   "name": "python",
   "nbconvert_exporter": "python",
   "pygments_lexer": "ipython3",
   "version": "3.7.4"
  }
 },
 "nbformat": 4,
 "nbformat_minor": 2
}
